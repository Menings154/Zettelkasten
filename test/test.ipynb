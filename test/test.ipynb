{
 "cells": [
  {
   "cell_type": "code",
   "execution_count": 27,
   "metadata": {},
   "outputs": [
    {
     "name": "stdout",
     "output_type": "stream",
     "text": [
      "['202206230833 Forschungsvorhaben B01 Collective quantum dynamics of structural- and spin-defects in ion crystal%3A goals.txt', '202206230903 Forschungsvorhaben B01 Collective quantum dynamics of  structural- and spin-defects in ion crystals Summary.txt', '202206261456 Forschungsvorhaben B01 Collective quantum dynamics of structural- and spin-defects in ion crystal%3A work packages.txt', '202206261516 Forschungsvorhaben B01 Collective quantum dynamics of structural- and spin-defects in ion crystal%3A research rationale.txt', '202206280823 Forschungsvorhaben B01 Collective quantum dynamics of structural- and spin-defects in ion crystals%3A Work package 1.txt', '202206280906 Forschungsvorhaben B01 Collective quantum dynamics of structural- and spin-defects in ion crystals%3A Work package 2.txt', '202206280914 Forschungsvorhaben B01 Collective quantum dynamics of structural- and spin-defects in ion crystals%3A Work package 3.txt', '202206281044 Forschungsvorhaben B01 Collective quantum dynamics of structural- and spin-defects in ion crystals%3A Work package 4.txt', '202207070842 Potential for trapping a single ion.txt', '202207121003 number operator and its eigenstates.txt', '202207121016 Coherent states.txt', '202207121037 Squeezed vacuum states.txt', '202207121053 Thermal distribution.txt', '202207130814 Mixed Crystal Vibrational Modes.txt', '202207130846 Electronic level structure Ca.txt', '202207130850 Electronic level structure Be.txt', '202207190951 Doopler Cooling.txt', '202207260817 Sideband dynamics.txt', '202210310951 Warum ein Zettelkasten.txt', '202210311312 Wie kann man mit dem ZK effizient lernen%3F.txt', '202210311324 Was sind best practices um Umgang mit Wissensarbeit%3F.txt', '202210311328 Bestandteile eines Zettels.txt', '202210311331 Archiv.txt', '202210311400 Inbox.txt', '202210311406 Literaturverwaltung.txt', '202210311414 Arbeitsplatz für den Zettelkasten.txt', '202211011248 Sechs Inhalte, die relevant für den Zettekasten sind.txt', '202211011259 Möglichkeiten einen Text zu bearbeiten.txt', '202211011308 Zweischrittzyklus zum Erstellen von Zettel für den Zettelkasten.txt', '202211011337 Sammeln als Schritt zum erstellen von Zettel.txt', '202211011338 Verzetteln als Schritt zum Erstellen von Zettel.txt', '202211080734 Zettelarten.txt', '202211090709 Arbeitszyklus der Zettelkastenmethode.txt', '202211090732 Schreiben mit dem Zettelkasten.txt', '202211090737 Phasen des Schreibprozesses.txt', '202211091923 Produktive Arbeitsstruktur.txt', '202211092015 Maßnahmen zum Schutz vor Ablenkungen.txt', '202211092033 Wissensarbeiter.txt', '202306181300 Disziplin.txt', '202306181330 Mental Models.txt', '202306200641 Willenskraft.txt', '202307140647 Wissensarbeit.txt', '202307180646 Zeigarnik-Effekt.txt', '202307180650 zugrundeliegende Prinzipien.txt', '202307190722 Zettelkastenmethode nach Sönke Ahrens.txt', '202307242155 Arbeitszyklus von Wissensarbeit.txt', '202307242201 Lernen.txt', '202307250703 Gestaltung des Arbeitsplatzes.txt', '202307250708 fünfstufige Expertenskala.txt', '202307260712 Lesen.txt', '202307260721 Lernziele.txt', '202307270658 Symbiose.txt', '202307270701 Input.txt', '202307280705 Abstraktion.txt', '202307280713 Feature-Positive Effekt.txt', '202307280717 Problemlösung .txt', '202308131252 Erkenntnis.txt', '202308131256 bewusste Einschränkung.txt', '202308131308 Schreibtipps.txt', '202311090739 20 hours to learn anything.txt', '202311100627 deliberate practice.txt', '202311100635 States of mind while learning.txt', '202311100645 Tools for learning.txt', '202311100647 mastery.txt', '202312010637 Limitless.txt', '202312010700 Technology.txt', '202312010705 Downtime.txt', '202312021846 Amplifier.txt', '202312021850 Neuroplasticity.txt', '202312050619 Primacy and recency.txt', '202312050622 FASTER method.txt', '202312050627 Feynman Method.txt', '202312050643 Richtige Fragen Stellen.txt', '202312050656 Mindset.txt', '202312060615 Learned Helplessness.txt', '202312060621 Take Responsibility.txt', '202312060630 Assumptions.txt', '202312060644 Limiting beliefs.txt', '202312060651 Learning from others.txt', '202312060657 Prototyping.txt', '202312060700 Mentor.txt', '202312060701 Extrema.txt', '202312060722 positive thinking.txt', '202312060726 Umgebung.txt', '202312060730 Tools%2FTechniques.txt', '202401080650 Lies of Learning.txt', '202401080653 Failures.txt', '202401080701 Long term thinking.txt', '202401080710 Motivation.txt', '202401080715 Goal.txt', '202401080715 Passion.txt', '202401080715 Purpose.txt', '202401090628 Values.txt', '202401090634 Energy.txt', '202401090647 Decisions.txt', '202401090649 Pain.txt', '202401100638 Meditation.txt', '202401100643 Small simple steps.txt', '202401100659 Habits.txt', '202401110626 Morningroutine.txt', '202401110632 Dreams.txt', '202401110640 Flow.txt', '202401120621 Learning methods.txt', '202401120624 Focus.txt', '202401120632 Calm your mind.txt', '202401120643 Study.txt', '202401120655 active recall.txt', '202401150616 Spaced Repetition.txt', '202401150621 Your state when you are learning.txt', '202401150625 Listen with your whole brain.txt', '202401150625 Notetaking.txt', '202401150641 Memory.txt', '202401150646 Reasons to improve the memory.txt', '202401150704 Loci method.txt', '202401150707 How to remember names.txt', '202401160623 Speed reading.txt', '202401160637 Methods for speed reading.txt', '202401160647 Thinking.txt', '202401160700 Mental Model%3A 40%2F70 Rule.txt', '202401160700 Mental Model%3A Create a Not-to-do-list.txt', '202401160701 Mental Model%3A second-order thinking.txt', '202401160701 Mental Model%3A study your errors.txt', '202401170659 Exponential thinking.txt']\n",
      "['Forschungsvorhaben B01 Collective quantum dynamics of structural- and spin-defects in ion crystal%3A goals', 'Forschungsvorhaben B01 Collective quantum dynamics of  structural- and spin-defects in ion crystals Summary', 'Forschungsvorhaben B01 Collective quantum dynamics of structural- and spin-defects in ion crystal%3A work packages', 'Forschungsvorhaben B01 Collective quantum dynamics of structural- and spin-defects in ion crystal%3A research rationale', 'Forschungsvorhaben B01 Collective quantum dynamics of structural- and spin-defects in ion crystals%3A Work package 1', 'Forschungsvorhaben B01 Collective quantum dynamics of structural- and spin-defects in ion crystals%3A Work package 2', 'Forschungsvorhaben B01 Collective quantum dynamics of structural- and spin-defects in ion crystals%3A Work package 3', 'Forschungsvorhaben B01 Collective quantum dynamics of structural- and spin-defects in ion crystals%3A Work package 4', 'Potential for trapping a single ion', 'number operator and its eigenstates', 'Coherent states', 'Squeezed vacuum states', 'Thermal distribution', 'Mixed Crystal Vibrational Modes', 'Electronic level structure Ca', 'Electronic level structure Be', 'Doopler Cooling', 'Sideband dynamics', 'Warum ein Zettelkasten', 'Wie kann man mit dem ZK effizient lernen%3F', 'Was sind best practices um Umgang mit Wissensarbeit%3F', 'Bestandteile eines Zettels', 'Archiv', 'Inbox', 'Literaturverwaltung', 'Arbeitsplatz für den Zettelkasten', 'Sechs Inhalte, die relevant für den Zettekasten sind', 'Möglichkeiten einen Text zu bearbeiten', 'Zweischrittzyklus zum Erstellen von Zettel für den Zettelkasten', 'Sammeln als Schritt zum erstellen von Zettel', 'Verzetteln als Schritt zum Erstellen von Zettel', 'Zettelarten', 'Arbeitszyklus der Zettelkastenmethode', 'Schreiben mit dem Zettelkasten', 'Phasen des Schreibprozesses', 'Produktive Arbeitsstruktur', 'Maßnahmen zum Schutz vor Ablenkungen', 'Wissensarbeiter', 'Disziplin', 'Mental Models', 'Willenskraft', 'Wissensarbeit', 'Zeigarnik-Effekt', 'zugrundeliegende Prinzipien', 'Zettelkastenmethode nach Sönke Ahrens', 'Arbeitszyklus von Wissensarbeit', 'Lernen', 'Gestaltung des Arbeitsplatzes', 'fünfstufige Expertenskala', 'Lesen', 'Lernziele', 'Symbiose', 'Input', 'Abstraktion', 'Feature-Positive Effekt', 'Problemlösung ', 'Erkenntnis', 'bewusste Einschränkung', 'Schreibtipps', '20 hours to learn anything', 'deliberate practice', 'States of mind while learning', 'Tools for learning', 'mastery', 'Limitless', 'Technology', 'Downtime', 'Amplifier', 'Neuroplasticity', 'Primacy and recency', 'FASTER method', 'Feynman Method', 'Richtige Fragen Stellen', 'Mindset', 'Learned Helplessness', 'Take Responsibility', 'Assumptions', 'Limiting beliefs', 'Learning from others', 'Prototyping', 'Mentor', 'Extrema', 'positive thinking', 'Umgebung', 'Tools%2FTechniques', 'Lies of Learning', 'Failures', 'Long term thinking', 'Motivation', 'Goal', 'Passion', 'Purpose', 'Values', 'Energy', 'Decisions', 'Pain', 'Meditation', 'Small simple steps', 'Habits', 'Morningroutine', 'Dreams', 'Flow', 'Learning methods', 'Focus', 'Calm your mind', 'Study', 'active recall', 'Spaced Repetition', 'Your state when you are learning', 'Listen with your whole brain', 'Notetaking', 'Memory', 'Reasons to improve the memory', 'Loci method', 'How to remember names', 'Speed reading', 'Methods for speed reading', 'Thinking', 'Mental Model%3A 40%2F70 Rule', 'Mental Model%3A Create a Not-to-do-list', 'Mental Model%3A second-order thinking', 'Mental Model%3A study your errors', 'Exponential thinking']\n"
     ]
    }
   ],
   "source": [
    "import os \n",
    "import re \n",
    "\n",
    "files = os.listdir(r\"C:\\Users\\Benja\\Dropbox\\Zettelkasten\\02 - Archiv\")\n",
    "print(files)\n",
    "print([file[13:-4] for file in files])"
   ]
  },
  {
   "cell_type": "code",
   "execution_count": 38,
   "metadata": {},
   "outputs": [
    {
     "name": "stdout",
     "output_type": "stream",
     "text": [
      "['Das Verzetteln selbst ist der zeitaufwendigste Schritt, aber auch der Schritt mit dem grÃ¶ÃŸten Effekt fÃ¼r das Scheiben.\\n', 'Beim Schreiben eines Z gilt der Anspruch, dass er spÃ¤ter einwandfrei verstÃ¤ndlich sein sollte, auch ohne Kontext. Dies bedeutet aber nicht, dass er perfekt sein muss. Â§Perfektion reduziert lediglich die Â§ProduktivitÃ¤t. Beim Verzetteln kann man sich daran orientieren, wie man einen Â§Blog schreibt. Man sollte versuchen, die Â§Aufmerksamkeit des Â§Lesers zu fangen, das wichtigeste direkt zu Beginn zu erwÃ¤hnen und mÃ¶glichst einfache Sprache zu nutzen. \\n', 'Dabei sind eine richtige Ãœberschrift und der erste, zusammenfassende Satz besonders wichtig. Die Â§Ãœberschrift sollte klar sein und dierekt auf den Kern des Â§Inhalts verweisen. Um dies sicherzustellen, sollte man nach dem Verfassen eines Zettels nochmal die Ãœberschrift kontrollieren.\\n', 'Der erste Satz ist eine Â§Zusammenfassung des Zettels. Es gilt, wenn man den Inhalt nicht in einem Satz ausdrÃ¼cken kann, dann ist der Z zu lange und man sollte ihn sinnvoll teilen.\\n', 'Ein Z sollte klaren Â§Inhalt haben, er muss aus sich selbst heraus verstÃ¤ndlich sein. Pro Z wir nur ein Gedanke erÃ¶rtert und typischerweise hat ein Z weniger als 250 WÃ¶rter.\\n', 'Nachdem der Inhalt geschrieben wurde, werden Â§Schlagworte vergeben. Es gilt je mehr Schlagworte, je besser und zum Vermeiden von Synonymen sollten Schlagworte positiv und nur Substantive sein. Schlagworte, die ein PC nicht findet, sind gute Schlagworte.[Ahrens2017]\\n', 'AuÃŸerdem werden am Ende des Z noch die Referenzen angegeben.\\n', 'Zuletzt wird ein Z noch verknÃ¼pft. Dies kann Ã¼ber Â§Schlagworte oder direkte Â§Verweisungen (Â§ID) geschehen. Wenn ein Z einen anderen Z benutzt, erweitert oder verweist, sollte eine Â§VerknÃ¼pfung gemacht werden.\\n', '\\n', 'Fast und Ahrens Ã¼berschneiden sich komplett in der Idee, was in einem Zettel vorhanden sein muss.\\n', '\\n', 'Beim Vezetteln kann man sich folgende Fragen stellen:\\n', '\\t- In weifern ist dsas fÃ¼r meine Forschung/Frage intressant?\\n', '\\t- Warum ist mir das als bemerkenswert aufgefallen?\\n', '\\t- Waas bedeutet das fÃ¼r die Themen, Ã¼ber die ich nachdenke?\\n', '\\t- zu welchem Z, zu welchem Diskussionsstrang im ZK passt das?\\n', '[Ahrens2017]\\n', '\\n']\n"
     ]
    }
   ],
   "source": [
    "pattern = r'\\[\\^.*?\\d{4}\\]'\n",
    "\n",
    "with open(r\"C:\\Users\\Benja\\Dropbox\\Zettelkasten\\02 - Archiv\\\\\"+files[30], 'r') as file:\n",
    "    data = file.readlines()\n",
    "\n",
    "for count, line in enumerate(data):\n",
    "    if line[0:3] == '###':\n",
    "        start = count+2\n",
    "    if re.search(pattern, line) != None:\n",
    "        end = count\n",
    "        break\n",
    "    \n",
    "print(data[start:end])\n"
   ]
  },
  {
   "cell_type": "code",
   "execution_count": 41,
   "metadata": {},
   "outputs": [
    {
     "data": {
      "text/plain": [
       "<re.Match object; span=(0, 12), match='202401100643'>"
      ]
     },
     "execution_count": 41,
     "metadata": {},
     "output_type": "execute_result"
    }
   ],
   "source": [
    "re.findall(pattern=r'\\d{12}', string=\"202401100643 Small simple steps\")"
   ]
  },
  {
   "cell_type": "code",
   "execution_count": null,
   "metadata": {},
   "outputs": [],
   "source": []
  }
 ],
 "metadata": {
  "kernelspec": {
   "display_name": "Zettelkasten-0C0dT9FM",
   "language": "python",
   "name": "python3"
  },
  "language_info": {
   "codemirror_mode": {
    "name": "ipython",
    "version": 3
   },
   "file_extension": ".py",
   "mimetype": "text/x-python",
   "name": "python",
   "nbconvert_exporter": "python",
   "pygments_lexer": "ipython3",
   "version": "3.10.1"
  }
 },
 "nbformat": 4,
 "nbformat_minor": 2
}
